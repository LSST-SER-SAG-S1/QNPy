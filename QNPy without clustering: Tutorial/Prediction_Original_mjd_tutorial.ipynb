{
 "cells": [
  {
   "cell_type": "markdown",
   "id": "2eb68f9e",
   "metadata": {},
   "source": [
    "# Prediction and ploting in original MJD range, individual plots"
   ]
  },
  {
   "cell_type": "markdown",
   "id": "7b37f6d7",
   "metadata": {},
   "source": [
    "Before running this script, you must create the following folders in the directory where your Python notebook is located:\n",
    "1. ./output/predictions/train/plots -- folder for saving training plots\n",
    "2. ./output/predictions/test/plots -- folder for saving test plots \n",
    "3. ./output/predictions/val/plots -- folder for saving validation plots\n",
    "4. ./output/predictions/train/data -- folder for sving train data\n",
    "5. ./output/predictions/test/data -- folder for saving test data\n",
    "6. ./output/predictions/val/data -- folder for saving val data"
   ]
  },
  {
   "cell_type": "code",
   "execution_count": 1,
   "id": "6528506f",
   "metadata": {},
   "outputs": [],
   "source": [
    "import QNPy #Importing the package\n",
    "from QNPy import PREDICTION_Original_mjd as por #Importing PREDICTION_onePDF module from the package\n",
    "from QNPy.PREDICTION_Original_mjd import * #Importing importing all packages from PREDICTION_onePDF module\n",
    "#The functions plot_function2, back_x and back_y must be imported separately\n",
    "from QNPy.PREDICTION_Original_mjd import plot_function2, back_x, back_y, find_LC_transform "
   ]
  },
  {
   "cell_type": "code",
   "execution_count": 2,
   "id": "34a4647e",
   "metadata": {},
   "outputs": [
    {
     "data": {
      "text/plain": [
       "device(type='cpu')"
      ]
     },
     "execution_count": 2,
     "metadata": {},
     "output_type": "execute_result"
    }
   ],
   "source": [
    "#defining the device, it can be cpu of cuda\n",
    "device = torch.device(\"cuda\" if torch.cuda.is_available() else \"cpu\")\n",
    "device"
   ]
  },
  {
   "cell_type": "code",
   "execution_count": 3,
   "id": "d1593165",
   "metadata": {},
   "outputs": [
    {
     "name": "stdout",
     "output_type": "stream",
     "text": [
      "Folder already exists: ./output/predictions/train\n",
      "Folder already exists: ./output/predictions/train/plots\n",
      "Folder already exists: ./output/predictions/train/data\n",
      "Folder already exists: ./output/predictions/test\n",
      "Folder already exists: ./output/predictions/test/plots\n",
      "Folder already exists: ./output/predictions/test/data\n",
      "Folder already exists: ./output/predictions/val\n",
      "Folder already exists: ./output/predictions/val/plots\n",
      "Folder already exists: ./output/predictions/val/data\n"
     ]
    }
   ],
   "source": [
    "# Creating all needed folders\n",
    "# If you already manually created prediction folders, this can be scipped\n",
    "por.create_prediction_folders()"
   ]
  },
  {
   "cell_type": "code",
   "execution_count": 4,
   "id": "7d04b3e4",
   "metadata": {},
   "outputs": [],
   "source": [
    "DATA_PATH_TRAIN = \"./dataset/train\" #path to train folder\n",
    "DATA_PATH_VAL = \"./dataset/val\" #path to val folder\n",
    "DATA_PATH_TEST=\"./dataset/test\" #path to test folder\n",
    "OUTPUT_PATH = \"./output/predictions/\" #path where to save the plots and data\n",
    "\n",
    "MODEL_PATH = \"./output/cnp_model.pth\" #path to saved model"
   ]
  },
  {
   "cell_type": "code",
   "execution_count": 5,
   "id": "5a9557a2",
   "metadata": {},
   "outputs": [],
   "source": [
    "clear_output_dir=por.prepare_output_dir(OUTPUT_PATH)#clearing outputh dir, it can be sciped"
   ]
  },
  {
   "cell_type": "code",
   "execution_count": 6,
   "id": "21b57ce7",
   "metadata": {},
   "outputs": [],
   "source": [
    "model = por.load_trained_model(MODEL_PATH, device)#loading model"
   ]
  },
  {
   "cell_type": "code",
   "execution_count": 7,
   "id": "7d507138",
   "metadata": {},
   "outputs": [],
   "source": [
    "criterion, mseMetric=por.get_criteria()#loading criterion and metrics"
   ]
  },
  {
   "cell_type": "code",
   "execution_count": 8,
   "id": "3f8a486b",
   "metadata": {},
   "outputs": [
    {
     "name": "stdout",
     "output_type": "stream",
     "text": [
      "Removed padding in file: 3_original_split22.csv\n"
     ]
    }
   ],
   "source": [
    "#deleting the padded values from test set\n",
    "#deleting the curves that we add with plus and minus errors\n",
    "#filtering the original curves for plotting\n",
    "folder_path = \"./dataset/test\"  # Change this to your dataset folder\n",
    "\n",
    "por.remove_padded_values_and_filter(folder_path)"
   ]
  },
  {
   "cell_type": "code",
   "execution_count": 9,
   "id": "e437fb5b",
   "metadata": {},
   "outputs": [
    {
     "name": "stdout",
     "output_type": "stream",
     "text": [
      "Removed padding in file: 9_original_split23.csv\n",
      "Removed padding in file: 4_original_split21.csv\n",
      "Removed padding in file: 1_original_split7.csv\n",
      "Removed padding in file: 7_original_split12.csv\n"
     ]
    }
   ],
   "source": [
    "#deleting the padded values from train set\n",
    "#deleting the curves that we add with plus and minus errors\n",
    "#filtering the original curves for plotting\n",
    "\n",
    "\n",
    "folder_path = \"./dataset/train\"  # Change this to your dataset folder\n",
    "\n",
    "por.remove_padded_values_and_filter(folder_path)"
   ]
  },
  {
   "cell_type": "code",
   "execution_count": 10,
   "id": "663bafe1",
   "metadata": {},
   "outputs": [
    {
     "name": "stdout",
     "output_type": "stream",
     "text": [
      "Removed padding in file: 5_original_split17.csv\n",
      "Removed padding in file: 2_original_split16.csv\n",
      "Removed padding in file: 8_original_split28.csv\n",
      "Removed padding in file: 10_original_split19.csv\n",
      "Removed padding in file: 6_original_split10.csv\n"
     ]
    }
   ],
   "source": [
    "#deleting the padded values from val set\n",
    "#deleting the curves that we add with plus and minus errors\n",
    "#filtering the original curves for plotting\n",
    "\n",
    "\n",
    "folder_path = \"./dataset/val\"  # Change this to your dataset folder\n",
    "\n",
    "por.remove_padded_values_and_filter(folder_path)"
   ]
  },
  {
   "cell_type": "code",
   "execution_count": 11,
   "id": "9c37007e",
   "metadata": {},
   "outputs": [],
   "source": [
    "tr=por.load_trcoeff()#loading the coeffitients"
   ]
  },
  {
   "cell_type": "code",
   "execution_count": 12,
   "id": "2238dfb9",
   "metadata": {},
   "outputs": [],
   "source": [
    "testLoader=por.load_test_data(DATA_PATH_TEST)#loading test data"
   ]
  },
  {
   "cell_type": "code",
   "execution_count": 13,
   "id": "afc96758",
   "metadata": {},
   "outputs": [],
   "source": [
    "trainLoader=por.load_train_data(DATA_PATH_TRAIN)#loading trained data"
   ]
  },
  {
   "cell_type": "code",
   "execution_count": 14,
   "id": "2a25d724",
   "metadata": {},
   "outputs": [],
   "source": [
    "valLoader=por.load_val_data(DATA_PATH_VAL)#loading validation data"
   ]
  },
  {
   "cell_type": "code",
   "execution_count": 15,
   "id": "4a47e5b2",
   "metadata": {},
   "outputs": [
    {
     "name": "stderr",
     "output_type": "stream",
     "text": [
      "100%|█████████████████████████████████████████████| 1/1 [00:00<00:00,  9.25it/s]"
     ]
    },
    {
     "name": "stdout",
     "output_type": "stream",
     "text": [
      "./output/predictions/test/plots/3_original_split22.png\n"
     ]
    },
    {
     "name": "stderr",
     "output_type": "stream",
     "text": [
      "\n"
     ]
    },
    {
     "data": {
      "text/plain": [
       "<Figure size 640x480 with 0 Axes>"
      ]
     },
     "metadata": {},
     "output_type": "display_data"
    }
   ],
   "source": [
    "#prediction and ploting of test data\n",
    "testMetrics=por.plot_test_data(model, testLoader, criterion, mseMetric, plot_function2, device, tr)"
   ]
  },
  {
   "cell_type": "code",
   "execution_count": 16,
   "id": "df624800",
   "metadata": {},
   "outputs": [],
   "source": [
    "savetest=por.save_test_metrics(OUTPUT_PATH, testMetrics)#saving test metrics"
   ]
  },
  {
   "cell_type": "code",
   "execution_count": 17,
   "id": "0245b613",
   "metadata": {},
   "outputs": [
    {
     "name": "stderr",
     "output_type": "stream",
     "text": [
      "100%|█████████████████████████████████████████████| 4/4 [00:00<00:00, 15.48it/s]"
     ]
    },
    {
     "name": "stdout",
     "output_type": "stream",
     "text": [
      "./output/predictions/train/plots/7_original_split12.png\n",
      "./output/predictions/train/plots/9_original_split23.png\n",
      "./output/predictions/train/plots/4_original_split21.png\n",
      "./output/predictions/train/plots/1_original_split7.png\n"
     ]
    },
    {
     "name": "stderr",
     "output_type": "stream",
     "text": [
      "\n"
     ]
    },
    {
     "data": {
      "text/plain": [
       "<Figure size 640x480 with 0 Axes>"
      ]
     },
     "metadata": {},
     "output_type": "display_data"
    }
   ],
   "source": [
    "#prediction adn plotting the train data\n",
    "trainMetrics=por.plot_train_light_curves(trainLoader, model, criterion, mseMetric, plot_function2, device,tr)"
   ]
  },
  {
   "cell_type": "code",
   "execution_count": 18,
   "id": "c47f6d82",
   "metadata": {},
   "outputs": [],
   "source": [
    "savetrain=por.save_train_metrics(OUTPUT_PATH, trainMetrics)#saving train metrics"
   ]
  },
  {
   "cell_type": "code",
   "execution_count": 19,
   "id": "618b8202",
   "metadata": {},
   "outputs": [
    {
     "name": "stderr",
     "output_type": "stream",
     "text": [
      " 80%|████████████████████████████████████         | 4/5 [00:00<00:00, 15.84it/s]"
     ]
    },
    {
     "name": "stdout",
     "output_type": "stream",
     "text": [
      "./output/predictions/val/plots/5_original_split17.png\n",
      "./output/predictions/val/plots/2_original_split16.png\n",
      "./output/predictions/val/plots/8_original_split28.png\n",
      "./output/predictions/val/plots/10_original_split19.png\n"
     ]
    },
    {
     "name": "stderr",
     "output_type": "stream",
     "text": [
      "100%|█████████████████████████████████████████████| 5/5 [00:00<00:00, 15.20it/s]"
     ]
    },
    {
     "name": "stdout",
     "output_type": "stream",
     "text": [
      "./output/predictions/val/plots/6_original_split10.png\n"
     ]
    },
    {
     "name": "stderr",
     "output_type": "stream",
     "text": [
      "\n"
     ]
    },
    {
     "data": {
      "text/plain": [
       "<Figure size 640x480 with 0 Axes>"
      ]
     },
     "metadata": {},
     "output_type": "display_data"
    }
   ],
   "source": [
    "#prediction and plotting val data\n",
    "valMetrics=por.plot_val_curves(model, valLoader, criterion, mseMetric, plot_function2, device,tr)"
   ]
  },
  {
   "cell_type": "code",
   "execution_count": 20,
   "id": "846b82bf",
   "metadata": {},
   "outputs": [],
   "source": [
    "saveval=por.save_val_metrics(OUTPUT_PATH, valMetrics)#saving validation metrics"
   ]
  },
  {
   "cell_type": "code",
   "execution_count": null,
   "id": "1ef44949-e1df-4b7f-b707-0865399d484d",
   "metadata": {},
   "outputs": [],
   "source": []
  }
 ],
 "metadata": {
  "kernelspec": {
   "display_name": "Python 3 (ipykernel)",
   "language": "python",
   "name": "python3"
  },
  "language_info": {
   "codemirror_mode": {
    "name": "ipython",
    "version": 3
   },
   "file_extension": ".py",
   "mimetype": "text/x-python",
   "name": "python",
   "nbconvert_exporter": "python",
   "pygments_lexer": "ipython3",
   "version": "3.9.18"
  }
 },
 "nbformat": 4,
 "nbformat_minor": 5
}
