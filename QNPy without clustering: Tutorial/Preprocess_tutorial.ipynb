{
 "cells": [
  {
   "cell_type": "markdown",
   "id": "05260aa8",
   "metadata": {},
   "source": [
    "# # Installation: \n",
    "\n",
    "pip install QNPy "
   ]
  },
  {
   "cell_type": "code",
   "execution_count": null,
   "id": "cf4fa576",
   "metadata": {},
   "outputs": [],
   "source": [
    "# If you didn't install QNPy from terminal, you can run: \n",
    "\n",
    "!pip install QNPY"
   ]
  },
  {
   "cell_type": "markdown",
   "id": "5af543f0",
   "metadata": {},
   "source": [
    "# REQUIREMENTS"
   ]
  },
  {
   "cell_type": "markdown",
   "id": "68f573be",
   "metadata": {},
   "source": [
    "This package contain a requirements.txt file with all the requirements that need to be setisfied (mainly other packages) before you can use it as a single package. To install all requirements at once, you will need to:\n",
    "\n",
    "1. in command line navigate to the directory where you downloaded your package (where the requirements.txt file is)\n",
    "2. once you are there type:\n",
    "pip install -r requirements.txt\n",
    "\n",
    "You are redy to use QNPy package now"
   ]
  },
  {
   "cell_type": "markdown",
   "id": "7a71347f",
   "metadata": {},
   "source": [
    "# Preprocess"
   ]
  },
  {
   "cell_type": "markdown",
   "id": "c46b26ac",
   "metadata": {},
   "source": [
    "Before running this script, you must create the following folders in the directory where your Python notebook is located:\n",
    "1. ./Padded_lc/ -- folder for saving the backward padded light curves\n",
    "1. ./preproc/ --  folder for saving the transformed data"
   ]
  },
  {
   "cell_type": "code",
   "execution_count": 1,
   "id": "b513b8ee",
   "metadata": {},
   "outputs": [],
   "source": [
    "import QNPy #Importing the package\n",
    "\n",
    "from QNPy import Preprocess as pr #Importing Preprocess module from the package\n",
    "from QNPy.Preprocess import transform #importing the funcion transform for transformation the data\n",
    "from QNPy.Preprocess import * #importing all external packages from Preprocess"
   ]
  },
  {
   "cell_type": "code",
   "execution_count": 2,
   "id": "141e87a9",
   "metadata": {},
   "outputs": [],
   "source": [
    "#Importing the data. This can be done in any desired manner, but the data must contain:\n",
    "#mjd - MJD or time, mag-magnitude and magerr-magnitude error. \n",
    "# In this example we used pandas python package for importing the .csv data, but numpy can be used if the data is \n",
    "#in .txt file\n",
    "path = './light_curves' #path to data\n",
    "csv_files = glob.glob(path + \"/*.csv\")\n",
    "df_list = (pd.read_csv(file) for file in csv_files)\n",
    "data = pd.concat(df_list, ignore_index=True)"
   ]
  },
  {
   "cell_type": "code",
   "execution_count": 5,
   "id": "3c752b12",
   "metadata": {},
   "outputs": [
    {
     "name": "stdout",
     "output_type": "stream",
     "text": [
      "Cleaned and saved 6.csv to ./light_curves_clean/6.csv\n",
      "Cleaned and saved 7.csv to ./light_curves_clean/7.csv\n",
      "Cleaned and saved 5.csv to ./light_curves_clean/5.csv\n",
      "Cleaned and saved 4.csv to ./light_curves_clean/4.csv\n",
      "Cleaned and saved 1.csv to ./light_curves_clean/1.csv\n",
      "Cleaned and saved 3.csv to ./light_curves_clean/3.csv\n",
      "Cleaned and saved 2.csv to ./light_curves_clean/2.csv\n",
      "Cleaned and saved 10.csv to ./light_curves_clean/10.csv\n",
      "Cleaned and saved 9.csv to ./light_curves_clean/9.csv\n",
      "Cleaned and saved 8.csv to ./light_curves_clean/8.csv\n"
     ]
    }
   ],
   "source": [
    "#Cleaning the outliers first approach\n",
    "# This step can be scipped if your data doesn't need cleaning the outliers\n",
    "# you can also use your costum function for cleaning the outliers\n",
    "# This function cleans data in CSV files, removing outliers based on a specified threshold, \n",
    "#and saves the cleaned files without aggregating time and fluxes.\n",
    "\n",
    "input_folder = './light_curves'\n",
    "output_folder = './light_curves_clean'\n",
    "threshold = 3.0\n",
    "\n",
    "outliers=pr.clean_and_save_outliers(input_folder, output_folder, threshold=threshold)\n"
   ]
  },
  {
   "cell_type": "code",
   "execution_count": 3,
   "id": "cb1cb20a",
   "metadata": {},
   "outputs": [
    {
     "name": "stdout",
     "output_type": "stream",
     "text": [
      "Cleaned and saved 6.csv to ./light_curves_clean/6.csv\n",
      "Cleaned and saved 7.csv to ./light_curves_clean/7.csv\n",
      "Cleaned and saved 5.csv to ./light_curves_clean/5.csv\n",
      "Cleaned and saved 4.csv to ./light_curves_clean/4.csv\n",
      "Cleaned and saved 1.csv to ./light_curves_clean/1.csv\n",
      "Cleaned and saved 3.csv to ./light_curves_clean/3.csv\n",
      "Cleaned and saved 2.csv to ./light_curves_clean/2.csv\n",
      "Cleaned and saved 10.csv to ./light_curves_clean/10.csv\n",
      "Cleaned and saved 9.csv to ./light_curves_clean/9.csv\n",
      "Cleaned and saved 8.csv to ./light_curves_clean/8.csv\n",
      "Processing completed.\n"
     ]
    }
   ],
   "source": [
    "#Cleaning the outliers second approach\n",
    "#This function not only cleans data by removing outliers but also aggregates time and fluxes, \n",
    "#computing a weighted average of magnitudes for closely spaced time points, \n",
    "#and then saves the cleaned and aggregated files.\n",
    "\n",
    "input_folder = './light_curves'\n",
    "output_folder = './light_curves_clean'\n",
    "threshold_aggregation = 5\n",
    "threshold_outliers = 3.0\n",
    "\n",
    "outliers=pr.clean_save_aggregate_data(input_folder, output_folder, threshold_aggregation, threshold_outliers)\n"
   ]
  },
  {
   "cell_type": "code",
   "execution_count": 3,
   "id": "1cbbf9f0",
   "metadata": {},
   "outputs": [
    {
     "name": "stdout",
     "output_type": "stream",
     "text": [
      "Created new file: ./Padded_lc/6.csv\n",
      "Created new file: ./Padded_lc/7.csv\n",
      "Created new file: ./Padded_lc/5.csv\n",
      "Created new file: ./Padded_lc/4.csv\n",
      "Created new file: ./Padded_lc/1.csv\n",
      "Created new file: ./Padded_lc/3.csv\n",
      "Created new file: ./Padded_lc/2.csv\n",
      "Created new file: ./Padded_lc/10.csv\n",
      "Created new file: ./Padded_lc/9.csv\n",
      "Created new file: ./Padded_lc/8.csv\n"
     ]
    }
   ],
   "source": [
    "# Padding the light curves\n",
    "# We added the function for backward padding the curves with last observed value\n",
    "# The length for padding should remain 100 or above \n",
    "# If you previously remowed the outliers from your light curves and saved the new one \n",
    "#in the folder light_curves_clean, here you use this folder insted of \"./light_curves\"\n",
    "\n",
    "padding= pr.backward_pad_curves('./light_curves', './Padded_lc', desired_observations=100)"
   ]
  },
  {
   "cell_type": "code",
   "execution_count": 4,
   "id": "07418c79",
   "metadata": {},
   "outputs": [],
   "source": [
    "#Path to Padded Data\n",
    "DATA_SRC = \"./Padded_lc\" \n",
    "#path to folder to save preproc data (transformed data) + errors\n",
    "DATA_DST = \"./preproc\" "
   ]
  },
  {
   "cell_type": "code",
   "execution_count": 5,
   "id": "fd252941",
   "metadata": {},
   "outputs": [],
   "source": [
    "#listing the data that are going to be transformed. \n",
    "#In case that your original data is in one table, this is not needed\n",
    "files = os.listdir(DATA_SRC) "
   ]
  },
  {
   "cell_type": "code",
   "execution_count": 7,
   "id": "61b408ac",
   "metadata": {},
   "outputs": [],
   "source": [
    "#running the transformation function\n",
    "number_of_points, trcoeff = pr.transform_and_save(files, DATA_SRC, DATA_DST, transform)"
   ]
  }
 ],
 "metadata": {
  "kernelspec": {
   "display_name": "Python 3 (ipykernel)",
   "language": "python",
   "name": "python3"
  },
  "language_info": {
   "codemirror_mode": {
    "name": "ipython",
    "version": 3
   },
   "file_extension": ".py",
   "mimetype": "text/x-python",
   "name": "python",
   "nbconvert_exporter": "python",
   "pygments_lexer": "ipython3",
   "version": "3.11.5"
  }
 },
 "nbformat": 4,
 "nbformat_minor": 5
}
