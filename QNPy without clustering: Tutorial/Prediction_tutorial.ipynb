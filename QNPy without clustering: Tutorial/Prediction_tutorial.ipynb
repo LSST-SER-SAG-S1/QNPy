{
 "cells": [
  {
   "cell_type": "markdown",
   "id": "25802435",
   "metadata": {},
   "source": [
    "# Prediction "
   ]
  },
  {
   "cell_type": "markdown",
   "id": "a54e796d",
   "metadata": {},
   "source": [
    "Before running this script, you must create the following folders in the directory where your Python notebook is located:\n",
    "1. ./output/predictions/train/plots -- folder for saving training plots\n",
    "2. ./output/predictions/test/plots -- folder for saving test plots \n",
    "3. ./output/predictions/val/plots -- folder for saving validation plots\n",
    "4. ./output/predictions/train/data -- folder for sving train data\n",
    "5. ./output/predictions/test/data -- folder for saving test data\n",
    "6. ./output/predictions/val/data -- folder for saving val data"
   ]
  },
  {
   "cell_type": "code",
   "execution_count": 1,
   "id": "0f2ecec2",
   "metadata": {},
   "outputs": [],
   "source": [
    "import QNPy #Importing the package\n",
    "from QNPy import PREDICTION as prd #Importing PREDICTION module from the package\n",
    "from QNPy.PREDICTION import * #Importing all packages from PREDICTION module\n",
    "from QNPy.PREDICTION import plot_function #The functions plot_function must be imported separately"
   ]
  },
  {
   "cell_type": "code",
   "execution_count": 2,
   "id": "b484e3b7",
   "metadata": {},
   "outputs": [
    {
     "data": {
      "text/plain": [
       "device(type='cpu')"
      ]
     },
     "execution_count": 2,
     "metadata": {},
     "output_type": "execute_result"
    }
   ],
   "source": [
    "#defining the device, it can be cpu of cuda\n",
    "device = torch.device(\"cuda\" if torch.cuda.is_available() else \"cpu\")\n",
    "device"
   ]
  },
  {
   "cell_type": "code",
   "execution_count": 3,
   "id": "3fe19e22",
   "metadata": {},
   "outputs": [
    {
     "name": "stdout",
     "output_type": "stream",
     "text": [
      "Folder already exists: ./output/predictions/train\n",
      "Folder already exists: ./output/predictions/train/plots\n",
      "Folder already exists: ./output/predictions/train/data\n",
      "Folder already exists: ./output/predictions/test\n",
      "Folder already exists: ./output/predictions/test/plots\n",
      "Folder already exists: ./output/predictions/test/data\n",
      "Folder already exists: ./output/predictions/val\n",
      "Folder already exists: ./output/predictions/val/plots\n",
      "Folder already exists: ./output/predictions/val/data\n"
     ]
    }
   ],
   "source": [
    "# Creating all needed folders\n",
    "# If you already manually created prediction folders, this can be scipped\n",
    "prd.create_prediction_folders()\n"
   ]
  },
  {
   "cell_type": "code",
   "execution_count": 4,
   "id": "2c539d98",
   "metadata": {},
   "outputs": [],
   "source": [
    "DATA_PATH_TRAIN = \"./dataset/train\" #path to train folder\n",
    "DATA_PATH_VAL = \"./dataset/val\" #path to val folder\n",
    "DATA_PATH_TEST=\"./dataset/test\" #path to test folder\n",
    "OUTPUT_PATH = \"./output/predictions\" #path where to save the plots and data\n",
    "\n",
    "MODEL_PATH = \"./output/cnp_model.pth\" #path to saved model"
   ]
  },
  {
   "cell_type": "code",
   "execution_count": 5,
   "id": "41e4f5e4",
   "metadata": {},
   "outputs": [],
   "source": [
    "prd.prepare_output_dir(OUTPUT_PATH)#clearing outputh dir, it can be sciped"
   ]
  },
  {
   "cell_type": "code",
   "execution_count": 6,
   "id": "b5cc49b2",
   "metadata": {},
   "outputs": [],
   "source": [
    "model = prd.load_trained_model(MODEL_PATH, device) #loading the model"
   ]
  },
  {
   "cell_type": "code",
   "execution_count": 7,
   "id": "6fed08cf",
   "metadata": {},
   "outputs": [],
   "source": [
    "criterion, mseMetric= prd.get_criteria()#loading criterion and metrics from model"
   ]
  },
  {
   "cell_type": "code",
   "execution_count": 8,
   "id": "7a57dbc1",
   "metadata": {},
   "outputs": [
    {
     "name": "stdout",
     "output_type": "stream",
     "text": [
      "Removed padding in file: 3_original_split22.csv\n"
     ]
    }
   ],
   "source": [
    "#deleting the padded values from test set\n",
    "#deleting the curves that we add with plus and minus errors\n",
    "#filtering the original curves for plotting\n",
    "folder_path = \"./dataset/test\"  # Change this to your dataset folder\n",
    "\n",
    "prd.remove_padded_values_and_filter(folder_path)"
   ]
  },
  {
   "cell_type": "code",
   "execution_count": 9,
   "id": "ce773815",
   "metadata": {},
   "outputs": [
    {
     "name": "stdout",
     "output_type": "stream",
     "text": [
      "Removed padding in file: 9_original_split23.csv\n",
      "Removed padding in file: 4_original_split21.csv\n",
      "Removed padding in file: 1_original_split7.csv\n",
      "Removed padding in file: 7_original_split12.csv\n"
     ]
    }
   ],
   "source": [
    "#deleting the padded values from train set\n",
    "#deleting the curves that we add with plus and minus errors\n",
    "#filtering the original curves for plotting\n",
    "\n",
    "\n",
    "folder_path = \"./dataset/train\"  # Change this to your dataset folder\n",
    "\n",
    "prd.remove_padded_values_and_filter(folder_path)"
   ]
  },
  {
   "cell_type": "code",
   "execution_count": 10,
   "id": "84a5975e",
   "metadata": {},
   "outputs": [
    {
     "name": "stdout",
     "output_type": "stream",
     "text": [
      "Removed padding in file: 5_original_split17.csv\n",
      "Removed padding in file: 2_original_split16.csv\n",
      "Removed padding in file: 8_original_split28.csv\n",
      "Removed padding in file: 10_original_split19.csv\n",
      "Removed padding in file: 6_original_split10.csv\n"
     ]
    }
   ],
   "source": [
    "#deleting the padded values from val set\n",
    "#deleting the curves that we add with plus and minus errors\n",
    "#filtering the original curves for plotting\n",
    "\n",
    "folder_path = \"./dataset/val\"  # Change this to your dataset folder\n",
    "\n",
    "prd.remove_padded_values_and_filter(folder_path)"
   ]
  },
  {
   "cell_type": "code",
   "execution_count": 11,
   "id": "cf6d3be0",
   "metadata": {},
   "outputs": [],
   "source": [
    "testLoader=prd.load_test_data(DATA_PATH_TEST)#loading test data"
   ]
  },
  {
   "cell_type": "code",
   "execution_count": 12,
   "id": "e67edc39",
   "metadata": {},
   "outputs": [],
   "source": [
    "trainLoader=prd.load_train_data(DATA_PATH_TRAIN)#loading trained data"
   ]
  },
  {
   "cell_type": "code",
   "execution_count": 13,
   "id": "717906f7",
   "metadata": {},
   "outputs": [],
   "source": [
    "valLoader=prd.load_val_data(DATA_PATH_VAL)#loading validation data"
   ]
  },
  {
   "cell_type": "code",
   "execution_count": 14,
   "id": "fae77b66",
   "metadata": {},
   "outputs": [
    {
     "name": "stderr",
     "output_type": "stream",
     "text": [
      "100%|█████████████████████████████████████████████| 1/1 [00:00<00:00,  8.59it/s]\n"
     ]
    },
    {
     "data": {
      "text/plain": [
       "<Figure size 640x480 with 0 Axes>"
      ]
     },
     "metadata": {},
     "output_type": "display_data"
    }
   ],
   "source": [
    "#prediction and plotting the test data\n",
    "testMetrics=prd.plot_light_curves_from_test_set(model, testLoader, criterion, mseMetric, plot_function, device)"
   ]
  },
  {
   "cell_type": "code",
   "execution_count": 15,
   "id": "b9d0fcf8",
   "metadata": {},
   "outputs": [],
   "source": [
    "saveTestMetric=prd.save_test_metrics('./output/predictions/', testMetrics)#saving the test Metrics"
   ]
  },
  {
   "cell_type": "code",
   "execution_count": 16,
   "id": "20d64c3e",
   "metadata": {},
   "outputs": [
    {
     "name": "stderr",
     "output_type": "stream",
     "text": [
      "100%|█████████████████████████████████████████████| 4/4 [00:00<00:00, 14.52it/s]\n"
     ]
    },
    {
     "data": {
      "text/plain": [
       "<Figure size 640x480 with 0 Axes>"
      ]
     },
     "metadata": {},
     "output_type": "display_data"
    }
   ],
   "source": [
    "#prediction and plotting the train data\n",
    "trainMetrics=prd.plot_light_curves_from_train_set(trainLoader, model, criterion, mseMetric, plot_function, device)"
   ]
  },
  {
   "cell_type": "code",
   "execution_count": 17,
   "id": "fb63ecaf",
   "metadata": {},
   "outputs": [],
   "source": [
    "saveTrainMetric=prd.save_train_metrics('./output/predictions/', trainMetrics)#saving the train metrics "
   ]
  },
  {
   "cell_type": "code",
   "execution_count": 18,
   "id": "a39ffd72",
   "metadata": {},
   "outputs": [
    {
     "name": "stderr",
     "output_type": "stream",
     "text": [
      "100%|█████████████████████████████████████████████| 5/5 [00:00<00:00, 15.04it/s]\n"
     ]
    },
    {
     "data": {
      "text/plain": [
       "<Figure size 640x480 with 0 Axes>"
      ]
     },
     "metadata": {},
     "output_type": "display_data"
    }
   ],
   "source": [
    "#prediction and plotting the val data\n",
    "valMetric=prd.plot_light_curves_from_val_set(model, valLoader, criterion, mseMetric, plot_function, device)"
   ]
  },
  {
   "cell_type": "code",
   "execution_count": 19,
   "id": "f4b660c2",
   "metadata": {},
   "outputs": [],
   "source": [
    "saveValMetrics=prd.save_val_metrics('./output/predictions/', valMetric)#saving the val metrics "
   ]
  },
  {
   "cell_type": "code",
   "execution_count": null,
   "id": "34153456-b8c4-4b97-91de-50b0b9c62e5a",
   "metadata": {},
   "outputs": [],
   "source": []
  }
 ],
 "metadata": {
  "kernelspec": {
   "display_name": "Python 3 (ipykernel)",
   "language": "python",
   "name": "python3"
  },
  "language_info": {
   "codemirror_mode": {
    "name": "ipython",
    "version": 3
   },
   "file_extension": ".py",
   "mimetype": "text/x-python",
   "name": "python",
   "nbconvert_exporter": "python",
   "pygments_lexer": "ipython3",
   "version": "3.9.18"
  }
 },
 "nbformat": 4,
 "nbformat_minor": 5
}
